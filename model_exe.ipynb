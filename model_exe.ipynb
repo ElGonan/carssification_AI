{
 "cells": [
  {
   "cell_type": "code",
   "execution_count": 1,
   "id": "72061064",
   "metadata": {},
   "outputs": [],
   "source": [
    "import tensorflow as tf\n",
    "import os\n",
    "import numpy as np\n",
    "from tensorflow.keras.applications.resnet import preprocess_input\n",
    "from tensorflow.keras.preprocessing.image import ImageDataGenerator\n"
   ]
  },
  {
   "cell_type": "code",
   "execution_count": 2,
   "id": "cccbda4b",
   "metadata": {},
   "outputs": [],
   "source": [
    "# Windows\n",
    "valid_dir = os.path.join(r\"./dataset/car parts\" , \"valid\")\n",
    "\n",
    "# Mac\n",
    "# valid_dir = \"/Users/alanpagzz/Codes/carssification_AI/dataset/car parts/valid\""
   ]
  },
  {
   "cell_type": "code",
   "execution_count": 3,
   "id": "890b8404",
   "metadata": {},
   "outputs": [
    {
     "name": "stdout",
     "output_type": "stream",
     "text": [
      "Found 200 images belonging to 40 classes.\n"
     ]
    }
   ],
   "source": [
    "# Time to preprocess the data\n",
    "\n",
    "valid_datagen = ImageDataGenerator(\n",
    "    preprocessing_function=preprocess_input,\n",
    "    rotation_range = 10,\n",
    "    width_shift_range = 0.2,\n",
    "\theight_shift_range = 0.2,\n",
    "\thorizontal_flip = True\n",
    "        )\n",
    "\n",
    "valid_generator = valid_datagen.flow_from_directory(\n",
    "    valid_dir,\n",
    "    target_size=(254, 254),\n",
    "    batch_size=16,\n",
    "    class_mode=\"categorical\",\n",
    ")\n"
   ]
  },
  {
   "cell_type": "code",
   "execution_count": 5,
   "id": "9329348f",
   "metadata": {},
   "outputs": [
    {
     "name": "stdout",
     "output_type": "stream",
     "text": [
      "Model loaded successfully.\n"
     ]
    }
   ],
   "source": [
    "# Load the saved model\n",
    "checkpoint_path = r\"./checkpoints/cp-06.keras\"\n",
    "\n",
    "class_names = list(valid_generator.class_indices.keys())\n",
    "\n",
    "model = tf.keras.models.load_model(checkpoint_path)\n",
    "if model is not None:\n",
    "    print(\"Model loaded successfully.\")\n",
    "else:\n",
    "    print(\"Failed to load the model.\")"
   ]
  },
  {
   "cell_type": "code",
   "execution_count": 11,
   "id": "4d7da71b",
   "metadata": {},
   "outputs": [
    {
     "name": "stdout",
     "output_type": "stream",
     "text": [
      "Found 0 images belonging to 1 classes.\n"
     ]
    },
    {
     "ename": "ValueError",
     "evalue": "The PyDataset has length 0",
     "output_type": "error",
     "traceback": [
      "\u001b[31m---------------------------------------------------------------------------\u001b[39m",
      "\u001b[31mValueError\u001b[39m                                Traceback (most recent call last)",
      "\u001b[36mCell\u001b[39m\u001b[36m \u001b[39m\u001b[32mIn[11]\u001b[39m\u001b[32m, line 17\u001b[39m\n\u001b[32m      7\u001b[39m test_generator = test_datagen.flow_from_directory(\n\u001b[32m      8\u001b[39m     directory=\u001b[33m'\u001b[39m\u001b[33m/content/drive/MyDrive/Octavo Semestre/IA/proyecto/wednesdayTest\u001b[39m\u001b[33m'\u001b[39m,  \u001b[38;5;66;03m# Carpeta que contiene la imagen\u001b[39;00m\n\u001b[32m      9\u001b[39m     target_size=(\u001b[32m254\u001b[39m, \u001b[32m254\u001b[39m),\n\u001b[32m   (...)\u001b[39m\u001b[32m     13\u001b[39m     classes=[\u001b[33m'\u001b[39m\u001b[33mimages\u001b[39m\u001b[33m'\u001b[39m]  \u001b[38;5;66;03m# Nombre de la carpeta donde está tu imagen\u001b[39;00m\n\u001b[32m     14\u001b[39m )\n\u001b[32m     16\u001b[39m \u001b[38;5;66;03m# Realiza la predicción\u001b[39;00m\n\u001b[32m---> \u001b[39m\u001b[32m17\u001b[39m predictions = \u001b[43mmodel\u001b[49m\u001b[43m.\u001b[49m\u001b[43mpredict\u001b[49m\u001b[43m(\u001b[49m\u001b[43mtest_generator\u001b[49m\u001b[43m)\u001b[49m\n\u001b[32m     19\u001b[39m \u001b[38;5;66;03m# Obtén la clase predicha\u001b[39;00m\n\u001b[32m     20\u001b[39m predicted_class = np.argmax(predictions[\u001b[32m0\u001b[39m])  \u001b[38;5;66;03m# Obtener el índice de la clase con la mayor probabilidad\u001b[39;00m\n",
      "\u001b[36mFile \u001b[39m\u001b[32m~\\AppData\\Roaming\\Python\\Python312\\site-packages\\keras\\src\\utils\\traceback_utils.py:122\u001b[39m, in \u001b[36mfilter_traceback.<locals>.error_handler\u001b[39m\u001b[34m(*args, **kwargs)\u001b[39m\n\u001b[32m    119\u001b[39m     filtered_tb = _process_traceback_frames(e.__traceback__)\n\u001b[32m    120\u001b[39m     \u001b[38;5;66;03m# To get the full stack trace, call:\u001b[39;00m\n\u001b[32m    121\u001b[39m     \u001b[38;5;66;03m# `keras.config.disable_traceback_filtering()`\u001b[39;00m\n\u001b[32m--> \u001b[39m\u001b[32m122\u001b[39m     \u001b[38;5;28;01mraise\u001b[39;00m e.with_traceback(filtered_tb) \u001b[38;5;28;01mfrom\u001b[39;00m\u001b[38;5;250m \u001b[39m\u001b[38;5;28;01mNone\u001b[39;00m\n\u001b[32m    123\u001b[39m \u001b[38;5;28;01mfinally\u001b[39;00m:\n\u001b[32m    124\u001b[39m     \u001b[38;5;28;01mdel\u001b[39;00m filtered_tb\n",
      "\u001b[36mFile \u001b[39m\u001b[32m~\\AppData\\Roaming\\Python\\Python312\\site-packages\\keras\\src\\trainers\\data_adapters\\py_dataset_adapter.py:295\u001b[39m, in \u001b[36mPyDatasetAdapter.get_tf_dataset\u001b[39m\u001b[34m(self)\u001b[39m\n\u001b[32m    290\u001b[39m     batches = [\n\u001b[32m    291\u001b[39m         \u001b[38;5;28mself\u001b[39m._standardize_batch(\u001b[38;5;28mself\u001b[39m.py_dataset[i])\n\u001b[32m    292\u001b[39m         \u001b[38;5;28;01mfor\u001b[39;00m i \u001b[38;5;129;01min\u001b[39;00m \u001b[38;5;28mrange\u001b[39m(num_samples)\n\u001b[32m    293\u001b[39m     ]\n\u001b[32m    294\u001b[39m     \u001b[38;5;28;01mif\u001b[39;00m \u001b[38;5;28mlen\u001b[39m(batches) == \u001b[32m0\u001b[39m:\n\u001b[32m--> \u001b[39m\u001b[32m295\u001b[39m         \u001b[38;5;28;01mraise\u001b[39;00m \u001b[38;5;167;01mValueError\u001b[39;00m(\u001b[33m\"\u001b[39m\u001b[33mThe PyDataset has length 0\u001b[39m\u001b[33m\"\u001b[39m)\n\u001b[32m    296\u001b[39m     \u001b[38;5;28mself\u001b[39m._output_signature = data_adapter_utils.get_tensor_spec(batches)\n\u001b[32m    298\u001b[39m ds = tf.data.Dataset.from_generator(\n\u001b[32m    299\u001b[39m     \u001b[38;5;28mself\u001b[39m._get_iterator,\n\u001b[32m    300\u001b[39m     output_signature=\u001b[38;5;28mself\u001b[39m._output_signature,\n\u001b[32m    301\u001b[39m )\n",
      "\u001b[31mValueError\u001b[39m: The PyDataset has length 0"
     ]
    }
   ],
   "source": [
    "image_path = \"/content/drive/MyDrive/Octavo Semestre/IA/proyecto/wednesdayTest/img3.jpg\"  # Cambia esto por tu ruta\n",
    "\n",
    "# Crea un generador de datos para la imagen específica\n",
    "test_datagen = ImageDataGenerator(preprocessing_function=preprocess_input)\n",
    "\n",
    "# Crea un generador que solo cargue la imagen\n",
    "test_generator = test_datagen.flow_from_directory(\n",
    "    directory='/content/drive/MyDrive/Octavo Semestre/IA/proyecto/wednesdayTest',  # Carpeta que contiene la imagen\n",
    "    target_size=(254, 254),\n",
    "    batch_size=1,\n",
    "    class_mode=None,  # No necesitamos etiquetas para la predicción\n",
    "    shuffle=False,    # No mezclar para mantener el orden\n",
    "    classes=['images']  # Nombre de la carpeta donde está tu imagen\n",
    ")\n",
    "\n",
    "# Realiza la predicción\n",
    "predictions = model.predict(test_generator)\n",
    "\n",
    "# Obtén la clase predicha\n",
    "predicted_class = np.argmax(predictions[0])  # Obtener el índice de la clase con la mayor probabilidad\n",
    "\n",
    "# Obtener los nombres de las clases\n",
    "class_names = list(valid_generator.class_indices.keys())\n",
    "\n",
    "# Imprimir la clase predicha\n",
    "print(f\"Predicted class: {class_names[predicted_class]}\")"
   ]
  }
 ],
 "metadata": {
  "kernelspec": {
   "display_name": "Python 3",
   "language": "python",
   "name": "python3"
  },
  "language_info": {
   "codemirror_mode": {
    "name": "ipython",
    "version": 3
   },
   "file_extension": ".py",
   "mimetype": "text/x-python",
   "name": "python",
   "nbconvert_exporter": "python",
   "pygments_lexer": "ipython3",
   "version": "3.12.2"
  }
 },
 "nbformat": 4,
 "nbformat_minor": 5
}
