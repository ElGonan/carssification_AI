{
 "cells": [
  {
   "cell_type": "code",
   "execution_count": 39,
   "id": "72061064",
   "metadata": {},
   "outputs": [],
   "source": [
    "import tensorflow as tf\n",
    "import os\n",
    "import numpy as np\n",
    "from tensorflow.keras.applications.resnet import preprocess_input\n",
    "from tensorflow.keras.preprocessing.image import ImageDataGenerator\n"
   ]
  },
  {
   "cell_type": "code",
   "execution_count": 40,
   "id": "cccbda4b",
   "metadata": {},
   "outputs": [],
   "source": [
    "\n",
    "valid_dir = os.path.join(r\"./dataset/car parts\" , \"valid\")"
   ]
  },
  {
   "cell_type": "code",
   "execution_count": 41,
   "id": "890b8404",
   "metadata": {},
   "outputs": [
    {
     "name": "stdout",
     "output_type": "stream",
     "text": [
      "Found 200 images belonging to 40 classes.\n"
     ]
    }
   ],
   "source": [
    "# Time to preprocess the data\n",
    "\n",
    "valid_datagen = ImageDataGenerator(\n",
    "    preprocessing_function=preprocess_input,\n",
    "    rotation_range = 10,\n",
    "    width_shift_range = 0.2,\n",
    "\theight_shift_range = 0.2,\n",
    "    #shear_range = 0.3,\n",
    "\t#zoom_range = 0.3,\n",
    "\thorizontal_flip = True\n",
    "        )\n",
    "\n",
    "valid_generator = valid_datagen.flow_from_directory(\n",
    "    valid_dir,\n",
    "    target_size=(254, 254),\n",
    "    batch_size=16,\n",
    "    class_mode=\"categorical\",\n",
    ")\n"
   ]
  },
  {
   "cell_type": "code",
   "execution_count": 53,
   "id": "4d7da71b",
   "metadata": {},
   "outputs": [
    {
     "name": "stdout",
     "output_type": "stream",
     "text": [
      "Model loaded successfully.\n",
      "\u001b[1m1/1\u001b[0m \u001b[32m━━━━━━━━━━━━━━━━━━━━\u001b[0m\u001b[37m\u001b[0m \u001b[1m12s\u001b[0m 12s/step\n",
      "Predicted class: SPARK PLUG\n"
     ]
    }
   ],
   "source": [
    "# Load the saved model\n",
    "checkpoint_path = r\"./checkpoints/cp-06.keras\"\n",
    "\n",
    "class_names = list(valid_generator.class_indices.keys())\n",
    "\n",
    "model = tf.keras.models.load_model(checkpoint_path)\n",
    "if model is not None:\n",
    "    print(\"Model loaded successfully.\")\n",
    "else:\n",
    "    print(\"Failed to load the model.\")\n",
    "\n",
    "# Now, I need to add a route for the input image\n",
    "image_path = r\"./wednesdayTest/img5.jpeg\"  # Replace with your image path\n",
    "image = tf.keras.preprocessing.image.load_img(image_path, target_size=(254, 254))\n",
    "image = tf.keras.preprocessing.image.img_to_array(image)\n",
    "image = np.expand_dims(image, axis=0)\n",
    "image = preprocess_input(image)\n",
    "# Make predictions\n",
    "predictions = model.predict(image)\n",
    "predicted_class = np.argmax(predictions, axis=1)[0]\n",
    "\n",
    "\n",
    "# Print the predicted class\n",
    "print(f\"Predicted class: {class_names[predicted_class]}\")"
   ]
  }
 ],
 "metadata": {
  "kernelspec": {
   "display_name": "Python 3",
   "language": "python",
   "name": "python3"
  },
  "language_info": {
   "codemirror_mode": {
    "name": "ipython",
    "version": 3
   },
   "file_extension": ".py",
   "mimetype": "text/x-python",
   "name": "python",
   "nbconvert_exporter": "python",
   "pygments_lexer": "ipython3",
   "version": "3.12.2"
  }
 },
 "nbformat": 4,
 "nbformat_minor": 5
}
