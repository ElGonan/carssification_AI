{
  "cells": [
    {
      "cell_type": "markdown",
      "id": "d46de79a",
      "metadata": {
        "id": "d46de79a"
      },
      "source": [
        "For this first deliverable, I need to develop this:\n",
        "<br /> 1.- Apply scaling techniques\n",
        "<br /> 2.- preprocess of data"
      ]
    },
    {
      "cell_type": "code",
      "execution_count": 34,
      "id": "cc717881",
      "metadata": {
        "id": "cc717881"
      },
      "outputs": [],
      "source": [
        "# All the imports come here\n",
        "import os\n",
        "import shutil\n",
        "import numpy as np\n",
        "import pandas as pd\n",
        "import tensorflow as tf\n",
        "import matplotlib.pyplot as plt\n",
        "from tensorflow.keras.callbacks import EarlyStopping, ModelCheckpoint\n",
        "from sklearn.metrics import precision_score, recall_score, f1_score\n",
        "from tensorflow.keras.preprocessing.image import ImageDataGenerator\n",
        "from tensorflow.keras.applications.resnet50 import preprocess_input\n",
        "from tensorflow.keras.layers import Dense, Flatten, MaxPooling2D, Input, Conv2D, BatchNormalization, GlobalAveragePooling2D"
      ]
    },
    {
      "cell_type": "code",
      "execution_count": null,
      "id": "f9ffd059",
      "metadata": {
        "colab": {
          "base_uri": "https://localhost:8080/"
        },
        "id": "f9ffd059",
        "outputId": "d48ceee8-16ec-4780-9744-4e790c0260ad"
      },
      "outputs": [
        {
          "name": "stdout",
          "output_type": "stream",
          "text": [
            "Drive already mounted at /content/drive; to attempt to forcibly remount, call drive.mount(\"/content/drive\", force_remount=True).\n"
          ]
        }
      ],
      "source": [
        "# It's important to comment the import depending on the OS\n",
        "# Windows PC\n",
        "base_dir = r\"/dataset/car parts\"\n",
        "\n",
        "# Mac OS\n",
        "# base_dir = \"/Users/alanpagzz/Codes/carssification_AI/dataset/car parts\"\n",
        "\n",
        "# Google Colab\n",
        "# from google.colab import drive\n",
        "# drive.mount('/content/drive')\n",
        "# drive_dataset_path = \"/content/drive/MyDrive/Octavo Semestre/IA/proyecto/car dataset/car parts\"\n",
        "\n",
        "# New local route\n",
        "# local_dataset_path = \"/content/car_parts\"\n",
        "\n",
        "# Copy the dataset to the local machine (just once)\n",
        "# if not os.path.exists(local_dataset_path):\n",
        "#     shutil.copytree(drive_dataset_path, local_dataset_path)"
      ]
    },
    {
      "cell_type": "code",
      "execution_count": 36,
      "id": "489632fd",
      "metadata": {
        "id": "489632fd"
      },
      "outputs": [],
      "source": [
        "train_dir = os.path.join(local_dataset_path , \"train\")\n",
        "valid_dir = os.path.join(local_dataset_path , \"valid\")\n",
        "\n",
        "# I will omit the test directory for now. I don't want to mix the test data with the training data"
      ]
    },
    {
      "cell_type": "code",
      "execution_count": 37,
      "id": "42edadfc",
      "metadata": {
        "colab": {
          "base_uri": "https://localhost:8080/"
        },
        "id": "42edadfc",
        "outputId": "d91f1456-6674-4cc0-b9e0-f1eda59a1ad7"
      },
      "outputs": [
        {
          "name": "stdout",
          "output_type": "stream",
          "text": [
            "Found 6917 images belonging to 40 classes.\n",
            "Found 200 images belonging to 40 classes.\n"
          ]
        }
      ],
      "source": [
        "# Time to preprocess the data\n",
        "\n",
        "# SCALING\n",
        "# First, scale pixels. Refer te README for the preprocess_input value\n",
        "train_datagen = ImageDataGenerator(\n",
        "    preprocessing_function=preprocess_input,\n",
        "    rotation_range = 10,\n",
        "    width_shift_range = 0.2,\n",
        "\t  height_shift_range = 0.2,\n",
        "    #shear_range = 0.3,\n",
        "\t  #zoom_range = 0.3,\n",
        "\t  horizontal_flip = True\n",
        "    )\n",
        "\n",
        "valid_datagen = ImageDataGenerator(\n",
        "    preprocessing_function=preprocess_input,\n",
        "    rotation_range = 10,\n",
        "    width_shift_range = 0.2,\n",
        "\t  height_shift_range = 0.2,\n",
        "    #shear_range = 0.3,\n",
        "\t  #zoom_range = 0.3,\n",
        "\t  horizontal_flip = True\n",
        "        )\n",
        "\n",
        "\n",
        "# PREPROCESS\n",
        "train_generator = train_datagen.flow_from_directory(\n",
        "    train_dir,\n",
        "    # My images are 254x254\n",
        "    target_size=(254, 254),\n",
        "    batch_size=8,\n",
        "    class_mode=\"categorical\",\n",
        ")\n",
        "\n",
        "valid_generator = valid_datagen.flow_from_directory(\n",
        "    valid_dir,\n",
        "    target_size=(254, 254),\n",
        "    batch_size=8,\n",
        "    class_mode=\"categorical\",\n",
        "    shuffle=False\n",
        ")\n"
      ]
    },
    {
      "cell_type": "code",
      "execution_count": null,
      "id": "RNgt_t4GFcMI",
      "metadata": {
        "colab": {
          "base_uri": "https://localhost:8080/",
          "height": 323
        },
        "id": "RNgt_t4GFcMI",
        "outputId": "04b66cd5-5a01-4fb9-df24-d400230c9c9c"
      },
      "outputs": [
        {
          "data": {
            "text/html": [
              "<pre style=\"white-space:pre;overflow-x:auto;line-height:normal;font-family:Menlo,'DejaVu Sans Mono',consolas,'Courier New',monospace\"><span style=\"font-weight: bold\">Model: \"sequential_7\"</span>\n",
              "</pre>\n"
            ],
            "text/plain": [
              "\u001b[1mModel: \"sequential_7\"\u001b[0m\n"
            ]
          },
          "metadata": {},
          "output_type": "display_data"
        },
        {
          "data": {
            "text/html": [
              "<pre style=\"white-space:pre;overflow-x:auto;line-height:normal;font-family:Menlo,'DejaVu Sans Mono',consolas,'Courier New',monospace\">┏━━━━━━━━━━━━━━━━━━━━━━━━━━━━━━━━━┳━━━━━━━━━━━━━━━━━━━━━━━━┳━━━━━━━━━━━━━━━┓\n",
              "┃<span style=\"font-weight: bold\"> Layer (type)                    </span>┃<span style=\"font-weight: bold\"> Output Shape           </span>┃<span style=\"font-weight: bold\">       Param # </span>┃\n",
              "┡━━━━━━━━━━━━━━━━━━━━━━━━━━━━━━━━━╇━━━━━━━━━━━━━━━━━━━━━━━━╇━━━━━━━━━━━━━━━┩\n",
              "│ resnet50 (<span style=\"color: #0087ff; text-decoration-color: #0087ff\">Functional</span>)           │ (<span style=\"color: #00d7ff; text-decoration-color: #00d7ff\">None</span>, <span style=\"color: #00af00; text-decoration-color: #00af00\">8</span>, <span style=\"color: #00af00; text-decoration-color: #00af00\">8</span>, <span style=\"color: #00af00; text-decoration-color: #00af00\">2048</span>)     │    <span style=\"color: #00af00; text-decoration-color: #00af00\">23,587,712</span> │\n",
              "├─────────────────────────────────┼────────────────────────┼───────────────┤\n",
              "│ global_average_pooling2d_3      │ (<span style=\"color: #00d7ff; text-decoration-color: #00d7ff\">None</span>, <span style=\"color: #00af00; text-decoration-color: #00af00\">2048</span>)           │             <span style=\"color: #00af00; text-decoration-color: #00af00\">0</span> │\n",
              "│ (<span style=\"color: #0087ff; text-decoration-color: #0087ff\">GlobalAveragePooling2D</span>)        │                        │               │\n",
              "├─────────────────────────────────┼────────────────────────┼───────────────┤\n",
              "│ dense_17 (<span style=\"color: #0087ff; text-decoration-color: #0087ff\">Dense</span>)                │ (<span style=\"color: #00d7ff; text-decoration-color: #00d7ff\">None</span>, <span style=\"color: #00af00; text-decoration-color: #00af00\">512</span>)            │     <span style=\"color: #00af00; text-decoration-color: #00af00\">1,049,088</span> │\n",
              "├─────────────────────────────────┼────────────────────────┼───────────────┤\n",
              "│ dense_18 (<span style=\"color: #0087ff; text-decoration-color: #0087ff\">Dense</span>)                │ (<span style=\"color: #00d7ff; text-decoration-color: #00d7ff\">None</span>, <span style=\"color: #00af00; text-decoration-color: #00af00\">128</span>)            │        <span style=\"color: #00af00; text-decoration-color: #00af00\">65,664</span> │\n",
              "├─────────────────────────────────┼────────────────────────┼───────────────┤\n",
              "│ dense_19 (<span style=\"color: #0087ff; text-decoration-color: #0087ff\">Dense</span>)                │ (<span style=\"color: #00d7ff; text-decoration-color: #00d7ff\">None</span>, <span style=\"color: #00af00; text-decoration-color: #00af00\">40</span>)             │         <span style=\"color: #00af00; text-decoration-color: #00af00\">5,160</span> │\n",
              "└─────────────────────────────────┴────────────────────────┴───────────────┘\n",
              "</pre>\n"
            ],
            "text/plain": [
              "┏━━━━━━━━━━━━━━━━━━━━━━━━━━━━━━━━━┳━━━━━━━━━━━━━━━━━━━━━━━━┳━━━━━━━━━━━━━━━┓\n",
              "┃\u001b[1m \u001b[0m\u001b[1mLayer (type)                   \u001b[0m\u001b[1m \u001b[0m┃\u001b[1m \u001b[0m\u001b[1mOutput Shape          \u001b[0m\u001b[1m \u001b[0m┃\u001b[1m \u001b[0m\u001b[1m      Param #\u001b[0m\u001b[1m \u001b[0m┃\n",
              "┡━━━━━━━━━━━━━━━━━━━━━━━━━━━━━━━━━╇━━━━━━━━━━━━━━━━━━━━━━━━╇━━━━━━━━━━━━━━━┩\n",
              "│ resnet50 (\u001b[38;5;33mFunctional\u001b[0m)           │ (\u001b[38;5;45mNone\u001b[0m, \u001b[38;5;34m8\u001b[0m, \u001b[38;5;34m8\u001b[0m, \u001b[38;5;34m2048\u001b[0m)     │    \u001b[38;5;34m23,587,712\u001b[0m │\n",
              "├─────────────────────────────────┼────────────────────────┼───────────────┤\n",
              "│ global_average_pooling2d_3      │ (\u001b[38;5;45mNone\u001b[0m, \u001b[38;5;34m2048\u001b[0m)           │             \u001b[38;5;34m0\u001b[0m │\n",
              "│ (\u001b[38;5;33mGlobalAveragePooling2D\u001b[0m)        │                        │               │\n",
              "├─────────────────────────────────┼────────────────────────┼───────────────┤\n",
              "│ dense_17 (\u001b[38;5;33mDense\u001b[0m)                │ (\u001b[38;5;45mNone\u001b[0m, \u001b[38;5;34m512\u001b[0m)            │     \u001b[38;5;34m1,049,088\u001b[0m │\n",
              "├─────────────────────────────────┼────────────────────────┼───────────────┤\n",
              "│ dense_18 (\u001b[38;5;33mDense\u001b[0m)                │ (\u001b[38;5;45mNone\u001b[0m, \u001b[38;5;34m128\u001b[0m)            │        \u001b[38;5;34m65,664\u001b[0m │\n",
              "├─────────────────────────────────┼────────────────────────┼───────────────┤\n",
              "│ dense_19 (\u001b[38;5;33mDense\u001b[0m)                │ (\u001b[38;5;45mNone\u001b[0m, \u001b[38;5;34m40\u001b[0m)             │         \u001b[38;5;34m5,160\u001b[0m │\n",
              "└─────────────────────────────────┴────────────────────────┴───────────────┘\n"
            ]
          },
          "metadata": {},
          "output_type": "display_data"
        },
        {
          "data": {
            "text/html": [
              "<pre style=\"white-space:pre;overflow-x:auto;line-height:normal;font-family:Menlo,'DejaVu Sans Mono',consolas,'Courier New',monospace\"><span style=\"font-weight: bold\"> Total params: </span><span style=\"color: #00af00; text-decoration-color: #00af00\">24,707,624</span> (94.25 MB)\n",
              "</pre>\n"
            ],
            "text/plain": [
              "\u001b[1m Total params: \u001b[0m\u001b[38;5;34m24,707,624\u001b[0m (94.25 MB)\n"
            ]
          },
          "metadata": {},
          "output_type": "display_data"
        },
        {
          "data": {
            "text/html": [
              "<pre style=\"white-space:pre;overflow-x:auto;line-height:normal;font-family:Menlo,'DejaVu Sans Mono',consolas,'Courier New',monospace\"><span style=\"font-weight: bold\"> Trainable params: </span><span style=\"color: #00af00; text-decoration-color: #00af00\">1,119,912</span> (4.27 MB)\n",
              "</pre>\n"
            ],
            "text/plain": [
              "\u001b[1m Trainable params: \u001b[0m\u001b[38;5;34m1,119,912\u001b[0m (4.27 MB)\n"
            ]
          },
          "metadata": {},
          "output_type": "display_data"
        },
        {
          "data": {
            "text/html": [
              "<pre style=\"white-space:pre;overflow-x:auto;line-height:normal;font-family:Menlo,'DejaVu Sans Mono',consolas,'Courier New',monospace\"><span style=\"font-weight: bold\"> Non-trainable params: </span><span style=\"color: #00af00; text-decoration-color: #00af00\">23,587,712</span> (89.98 MB)\n",
              "</pre>\n"
            ],
            "text/plain": [
              "\u001b[1m Non-trainable params: \u001b[0m\u001b[38;5;34m23,587,712\u001b[0m (89.98 MB)\n"
            ]
          },
          "metadata": {},
          "output_type": "display_data"
        }
      ],
      "source": [
        "# ResNet50\n",
        "# Retrieved from documentation\n",
        "\n",
        "with tf.device('/GPU:0'):\n",
        "      ResNet50 = tf.keras.applications.ResNet50(\n",
        "        input_shape=(254, 254, 3),\n",
        "        include_top=False,\n",
        "        weights=\"imagenet\",\n",
        "        classifier_activation=\"softmax\",\n",
        "        name=\"resnet50\"\n",
        "      )\n",
        "\n",
        "      ResNet50.trainable = False\n",
        "\n",
        "  # This is my model\n",
        "      model = tf.keras.models.Sequential([\n",
        "        ResNet50,\n",
        "        GlobalAveragePooling2D(),\n",
        "        Dense(512, activation = 'relu'),\n",
        "        Dense(128, activation = 'relu'),\n",
        "        Dense(40, activation = 'softmax')\n",
        "  ])\n",
        "\n",
        "model.summary()"
      ]
    },
    {
      "cell_type": "code",
      "execution_count": null,
      "id": "Yyc3YzwZnlh8",
      "metadata": {
        "id": "Yyc3YzwZnlh8"
      },
      "outputs": [],
      "source": [
        "# Time to add a checkpoint\n",
        "\n",
        "# I want it on the same spot on every device, It's easier\n",
        "\n",
        "# Drive\n",
        "# checkpoint_path = \"/content/drive/MyDrive/Octavo Semestre/IA/proyecto/checkpoints/cp-{epoch:02d}.keras\"\n",
        "\n",
        "# Windows\n",
        "checkpoint_path = os.path.join(r\"./\", \"checkpoints\", \"cp-{epoch:02d}.keras\")\n",
        "\n",
        "# Mac OS\n",
        "# checkpoint_path = PUTSOMETHINGHERE\n",
        "\n",
        "# Callback to save the best model\n",
        "checkpoint_cb = ModelCheckpoint(\n",
        "    filepath=checkpoint_path,\n",
        "    save_best_only=True,\n",
        "    monitor='val_accuracy',\n",
        "    mode='max',\n",
        "    verbose=1\n",
        ")\n",
        "\n",
        "# Callback to stop if tehre's no improvement in 3 epochs\n",
        "earlystop_cb = EarlyStopping(\n",
        "    monitor='val_accuracy',\n",
        "    patience=3,\n",
        "    restore_best_weights=True,\n",
        "    verbose=1\n",
        ")"
      ]
    },
    {
      "cell_type": "code",
      "execution_count": 40,
      "id": "bEX1sEitQ1pr",
      "metadata": {
        "id": "bEX1sEitQ1pr"
      },
      "outputs": [],
      "source": [
        "def compile_model_simple(newModel):\n",
        "    # CATEGORICAL CROSS SENTROPY\n",
        "    newModel.compile(optimizer= \"adam\", loss = \"categorical_crossentropy\", metrics=['accuracy'])\n",
        "\n",
        "def train_model_simple(newModel, scaled_train_images):\n",
        "  # The cancer model paper mentions that it reaches a good level of accuracy on\n",
        "  # epoch 20ish (The graph is up to epoch 25)\n",
        "    history = newModel.fit(scaled_train_images,\n",
        "                        validation_data=valid_generator,\n",
        "                        epochs = 5,\n",
        "                        callbacks=[checkpoint_cb, earlystop_cb])\n",
        "    return history"
      ]
    },
    {
      "cell_type": "code",
      "execution_count": 41,
      "id": "kVL-JjJjRLXt",
      "metadata": {
        "colab": {
          "base_uri": "https://localhost:8080/"
        },
        "id": "kVL-JjJjRLXt",
        "outputId": "22338b75-8410-40be-a0e1-a7f8045c466d"
      },
      "outputs": [
        {
          "name": "stderr",
          "output_type": "stream",
          "text": [
            "/usr/local/lib/python3.11/dist-packages/keras/src/trainers/data_adapters/py_dataset_adapter.py:121: UserWarning: Your `PyDataset` class should call `super().__init__(**kwargs)` in its constructor. `**kwargs` can include `workers`, `use_multiprocessing`, `max_queue_size`. Do not pass these arguments to `fit()`, as they will be ignored.\n",
            "  self._warn_if_super_not_called()\n"
          ]
        },
        {
          "name": "stdout",
          "output_type": "stream",
          "text": [
            "Epoch 1/5\n",
            "\u001b[1m865/865\u001b[0m \u001b[32m━━━━━━━━━━━━━━━━━━━━\u001b[0m\u001b[37m\u001b[0m \u001b[1m0s\u001b[0m 138ms/step - accuracy: 0.5464 - loss: 1.6784\n",
            "Epoch 1: val_accuracy improved from -inf to 0.83000, saving model to /content/drive/MyDrive/Octavo Semestre/IA/proyecto/checkpoints/cp-01.weights.h5\n"
          ]
        },
        {
          "name": "stderr",
          "output_type": "stream",
          "text": [
            "WARNING:absl:You are saving your model as an HDF5 file via `model.save()` or `keras.saving.save_model(model)`. This file format is considered legacy. We recommend using instead the native Keras format, e.g. `model.save('my_model.keras')` or `keras.saving.save_model(model, 'my_model.keras')`. \n"
          ]
        },
        {
          "name": "stdout",
          "output_type": "stream",
          "text": [
            "\b\b\b\b\b\b\b\b\b\b\b\b\b\b\b\b\b\b\b\b\b\b\b\b\b\b\b\b\b\b\b\b\b\b\b\b\b\b\b\b\b\b\b\b\b\b\b\b\b\b\b\b\b\b\b\b\b\b\b\b\b\b\b\b\b\b\b\b\b\b\b\b\b\b\b\b\r\u001b[1m865/865\u001b[0m \u001b[32m━━━━━━━━━━━━━━━━━━━━\u001b[0m\u001b[37m\u001b[0m \u001b[1m139s\u001b[0m 148ms/step - accuracy: 0.5466 - loss: 1.6777 - val_accuracy: 0.8300 - val_loss: 0.6068\n",
            "Epoch 2/5\n",
            "\u001b[1m865/865\u001b[0m \u001b[32m━━━━━━━━━━━━━━━━━━━━\u001b[0m\u001b[37m\u001b[0m \u001b[1m0s\u001b[0m 136ms/step - accuracy: 0.8676 - loss: 0.4287\n",
            "Epoch 2: val_accuracy did not improve from 0.83000\n",
            "\u001b[1m865/865\u001b[0m \u001b[32m━━━━━━━━━━━━━━━━━━━━\u001b[0m\u001b[37m\u001b[0m \u001b[1m121s\u001b[0m 140ms/step - accuracy: 0.8676 - loss: 0.4288 - val_accuracy: 0.8150 - val_loss: 0.6689\n",
            "Epoch 3/5\n",
            "\u001b[1m865/865\u001b[0m \u001b[32m━━━━━━━━━━━━━━━━━━━━\u001b[0m\u001b[37m\u001b[0m \u001b[1m0s\u001b[0m 135ms/step - accuracy: 0.9079 - loss: 0.2909\n",
            "Epoch 3: val_accuracy improved from 0.83000 to 0.87000, saving model to /content/drive/MyDrive/Octavo Semestre/IA/proyecto/checkpoints/cp-03.weights.h5\n"
          ]
        },
        {
          "name": "stderr",
          "output_type": "stream",
          "text": [
            "WARNING:absl:You are saving your model as an HDF5 file via `model.save()` or `keras.saving.save_model(model)`. This file format is considered legacy. We recommend using instead the native Keras format, e.g. `model.save('my_model.keras')` or `keras.saving.save_model(model, 'my_model.keras')`. \n"
          ]
        },
        {
          "name": "stdout",
          "output_type": "stream",
          "text": [
            "\b\b\b\b\b\b\b\b\b\b\b\b\b\b\b\b\b\b\b\b\b\b\b\b\b\b\b\b\b\b\b\b\b\b\b\b\b\b\b\b\b\b\b\b\b\b\b\b\b\b\b\b\b\b\b\b\b\b\b\b\b\b\b\b\b\b\b\b\b\b\b\b\b\b\b\b\r\u001b[1m865/865\u001b[0m \u001b[32m━━━━━━━━━━━━━━━━━━━━\u001b[0m\u001b[37m\u001b[0m \u001b[1m121s\u001b[0m 140ms/step - accuracy: 0.9078 - loss: 0.2909 - val_accuracy: 0.8700 - val_loss: 0.5384\n",
            "Epoch 4/5\n",
            "\u001b[1m865/865\u001b[0m \u001b[32m━━━━━━━━━━━━━━━━━━━━\u001b[0m\u001b[37m\u001b[0m \u001b[1m0s\u001b[0m 136ms/step - accuracy: 0.9282 - loss: 0.2279\n",
            "Epoch 4: val_accuracy improved from 0.87000 to 0.87500, saving model to /content/drive/MyDrive/Octavo Semestre/IA/proyecto/checkpoints/cp-04.weights.h5\n"
          ]
        },
        {
          "name": "stderr",
          "output_type": "stream",
          "text": [
            "WARNING:absl:You are saving your model as an HDF5 file via `model.save()` or `keras.saving.save_model(model)`. This file format is considered legacy. We recommend using instead the native Keras format, e.g. `model.save('my_model.keras')` or `keras.saving.save_model(model, 'my_model.keras')`. \n"
          ]
        },
        {
          "name": "stdout",
          "output_type": "stream",
          "text": [
            "\b\b\b\b\b\b\b\b\b\b\b\b\b\b\b\b\b\b\b\b\b\b\b\b\b\b\b\b\b\b\b\b\b\b\b\b\b\b\b\b\b\b\b\b\b\b\b\b\b\b\b\b\b\b\b\b\b\b\b\b\b\b\b\b\b\b\b\b\b\b\b\b\b\b\b\b\r\u001b[1m865/865\u001b[0m \u001b[32m━━━━━━━━━━━━━━━━━━━━\u001b[0m\u001b[37m\u001b[0m \u001b[1m122s\u001b[0m 141ms/step - accuracy: 0.9281 - loss: 0.2279 - val_accuracy: 0.8750 - val_loss: 0.4633\n",
            "Epoch 5/5\n",
            "\u001b[1m865/865\u001b[0m \u001b[32m━━━━━━━━━━━━━━━━━━━━\u001b[0m\u001b[37m\u001b[0m \u001b[1m0s\u001b[0m 135ms/step - accuracy: 0.9396 - loss: 0.1964\n",
            "Epoch 5: val_accuracy did not improve from 0.87500\n",
            "\u001b[1m865/865\u001b[0m \u001b[32m━━━━━━━━━━━━━━━━━━━━\u001b[0m\u001b[37m\u001b[0m \u001b[1m120s\u001b[0m 139ms/step - accuracy: 0.9396 - loss: 0.1964 - val_accuracy: 0.8700 - val_loss: 0.5954\n",
            "Restoring model weights from the end of the best epoch: 4.\n"
          ]
        }
      ],
      "source": [
        "compile_model_simple(model)\n",
        "history = train_model_simple(model, train_generator)"
      ]
    },
    {
      "cell_type": "code",
      "execution_count": 42,
      "id": "0hg9xhG7e-y-",
      "metadata": {
        "colab": {
          "base_uri": "https://localhost:8080/",
          "height": 927
        },
        "id": "0hg9xhG7e-y-",
        "outputId": "85f6eef4-189b-4239-8e2c-4c22c381fbf2"
      },
      "outputs": [
        {
          "data": {
            "image/png": "[encoded data removed]",
            "text/plain": [
              "<Figure size 640x480 with 1 Axes>"
            ]
          },
          "metadata": {},
          "output_type": "display_data"
        },
        {
          "data": {
            "image/png": "[encoded data removed]",
            "text/plain": [
              "<Figure size 640x480 with 1 Axes>"
            ]
          },
          "metadata": {},
          "output_type": "display_data"
        }
      ],
      "source": [
        "frame = pd.DataFrame(history.history)\n",
        "acc_plot = frame.plot(y=[\"accuracy\", \"val_accuracy\"], title=\"Train vs. Validation Accuracy\", legend=True)\n",
        "acc_plot.set(xlabel=\"Epochs\", ylabel=\"Accuracy\")\n",
        "plt.show()\n",
        "\n",
        "loss_plot = frame.plot(y=[\"loss\", \"val_loss\"], title=\"Train vs. Validation Loss\", legend=True)\n",
        "loss_plot.set(xlabel=\"Epochs\", ylabel=\"Loss\")\n",
        "plt.show()"
      ]
    },
    {
      "cell_type": "code",
      "execution_count": 43,
      "id": "4IcmkQFSXV4G",
      "metadata": {
        "colab": {
          "base_uri": "https://localhost:8080/"
        },
        "id": "4IcmkQFSXV4G",
        "outputId": "bdb76dfe-4c5e-481b-925d-bd94d5deae45"
      },
      "outputs": [
        {
          "name": "stdout",
          "output_type": "stream",
          "text": [
            "\u001b[1m25/25\u001b[0m \u001b[32m━━━━━━━━━━━━━━━━━━━━\u001b[0m\u001b[37m\u001b[0m \u001b[1m8s\u001b[0m 138ms/step\n",
            "Precision: 0.8949\n",
            "Recall: 0.8750\n",
            "F1 Score: 0.8728\n"
          ]
        }
      ],
      "source": [
        "# Get true classes and predicted classes for the validation set\n",
        "true_classes = valid_generator.classes\n",
        "\n",
        "# Predict probabilities for the validation set\n",
        "valid_generator.reset()\n",
        "val_pred_probs = model.predict(valid_generator, verbose=1)\n",
        "val_pred_classes = np.argmax(val_pred_probs, axis=1)\n",
        "\n",
        "precision = precision_score(true_classes, val_pred_classes, average='macro')\n",
        "recall = recall_score(true_classes, val_pred_classes, average='macro')\n",
        "f1 = f1_score(true_classes, val_pred_classes, average='macro')\n",
        "\n",
        "print(f\"Precision: {precision:.4f}\")\n",
        "print(f\"Recall: {recall:.4f}\")\n",
        "print(f\"F1 Score: {f1:.4f}\")"
      ]
    }
  ],
  "metadata": {
    "accelerator": "GPU",
    "colab": {
      "gpuType": "T4",
      "provenance": []
    },
    "kernelspec": {
      "display_name": "Python 3",
      "name": "python3"
    },
    "language_info": {
      "codemirror_mode": {
        "name": "ipython",
        "version": 3
      },
      "file_extension": ".py",
      "mimetype": "text/x-python",
      "name": "python",
      "nbconvert_exporter": "python",
      "pygments_lexer": "ipython3",
      "version": "3.12.2"
    }
  },
  "nbformat": 4,
  "nbformat_minor": 5
}
