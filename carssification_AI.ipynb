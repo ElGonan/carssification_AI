{
 "cells": [
  {
   "cell_type": "markdown",
   "id": "d46de79a",
   "metadata": {},
   "source": [
    "For this first deliverable, I need to develop this:\n",
    "<br /> 1.- Apply scaling techniques\n",
    "<br /> 2.- preprocess of data"
   ]
  },
  {
   "cell_type": "code",
   "execution_count": 2,
   "id": "cc717881",
   "metadata": {},
   "outputs": [
    {
     "ename": "ModuleNotFoundError",
     "evalue": "No module named 'pandas'",
     "output_type": "error",
     "traceback": [
      "\u001b[31m---------------------------------------------------------------------------\u001b[39m",
      "\u001b[31mModuleNotFoundError\u001b[39m                       Traceback (most recent call last)",
      "\u001b[36mCell\u001b[39m\u001b[36m \u001b[39m\u001b[32mIn[2]\u001b[39m\u001b[32m, line 3\u001b[39m\n\u001b[32m      1\u001b[39m \u001b[38;5;66;03m# All the imports come here\u001b[39;00m\n\u001b[32m      2\u001b[39m \u001b[38;5;28;01mimport\u001b[39;00m\u001b[38;5;250m \u001b[39m\u001b[34;01mos\u001b[39;00m\n\u001b[32m----> \u001b[39m\u001b[32m3\u001b[39m \u001b[38;5;28;01mimport\u001b[39;00m\u001b[38;5;250m \u001b[39m\u001b[34;01mpandas\u001b[39;00m\u001b[38;5;250m \u001b[39m\u001b[38;5;28;01mas\u001b[39;00m\u001b[38;5;250m \u001b[39m\u001b[34;01mpd\u001b[39;00m\n\u001b[32m      4\u001b[39m \u001b[38;5;28;01mimport\u001b[39;00m\u001b[38;5;250m \u001b[39m\u001b[34;01mmatplotlib\u001b[39;00m\u001b[34;01m.\u001b[39;00m\u001b[34;01mpyplot\u001b[39;00m\u001b[38;5;250m \u001b[39m\u001b[38;5;28;01mas\u001b[39;00m\u001b[38;5;250m \u001b[39m\u001b[34;01mplt\u001b[39;00m\n\u001b[32m      5\u001b[39m \u001b[38;5;28;01mimport\u001b[39;00m\u001b[38;5;250m \u001b[39m\u001b[34;01mtensorflow\u001b[39;00m\u001b[38;5;250m \u001b[39m\u001b[38;5;28;01mas\u001b[39;00m\u001b[38;5;250m \u001b[39m\u001b[34;01mtf\u001b[39;00m\n",
      "\u001b[31mModuleNotFoundError\u001b[39m: No module named 'pandas'"
     ]
    }
   ],
   "source": [
    "# All the imports come here\n",
    "import os\n",
    "import pandas as pd\n",
    "import matplotlib.pyplot as plt\n",
    "import tensorflow as tf\n",
    "from tensorflow.keras.preprocessing import ImageDataGenerator"
   ]
  },
  {
   "cell_type": "code",
   "execution_count": null,
   "id": "f9ffd059",
   "metadata": {},
   "outputs": [],
   "source": [
    "# It's important to comment the import depending on the OS\n",
    "# Windows PC\n",
    "base_dir = r\"/dataset/car parts\"\n",
    "\n",
    "# Mac OS\n",
    "# fill here xd\n",
    "\n",
    "# Google Colab\n",
    "# fill here xd"
   ]
  },
  {
   "cell_type": "code",
   "execution_count": null,
   "id": "489632fd",
   "metadata": {},
   "outputs": [],
   "source": [
    "train_dir = os.path.join(base_dir, \"train\")\n",
    "valid_dir = os.path.join(base_dir, \"valid\")\n",
    "\n",
    "# I will omit the test directory for now. I don't want to mix the test data with the training data"
   ]
  },
  {
   "cell_type": "code",
   "execution_count": null,
   "id": "42edadfc",
   "metadata": {},
   "outputs": [],
   "source": [
    "# Time to preprocess the data\n",
    "\n",
    "# First, scale pixels from 0-255 to 0-1\n",
    "train_datagen = ImageDataGenerator(rescale=1.0 / 255.0)\n",
    "valid_datagen = ImageDataGenerator(rescale=1.0 / 255.0)\n",
    "\n",
    "# I don't want to augment the validation data nor the test data\n",
    "\n",
    "train_generator = train_datagen.flow_from_directory(\n",
    "    train_dir,\n",
    "    target_size=(150, 150),  # Resize images to 150x150\n",
    "    batch_size=10,\n",
    "    class_mode=\"categorical\",\n",
    ")\n",
    "\n",
    "valid_generator = valid_datagen.flow_from_directory(\n",
    "    valid_dir,\n",
    "    target_size=(150, 150),  # Resize images to 150x150\n",
    "    batch_size=10,\n",
    "    class_mode=\"categorical\", \n",
    ")"
   ]
  },
  {
   "cell_type": "code",
   "execution_count": null,
   "id": "6bf4e9e6",
   "metadata": {},
   "outputs": [],
   "source": [
    "# Just to check if the data is loading correctly\n",
    "# Let's visualize some images from the training set\n",
    "\n",
    "def visualize_data(generator, num_images=5):\n",
    "    plt.figure(figsize=(10, 10))\n",
    "    for i in range(num_images):\n",
    "        img, label = generator.next()\n",
    "        ax = plt.subplot(1, num_images, i + 1)\n",
    "        plt.imshow(img[0])\n",
    "        plt.title(f\"Label: {label[0]}\")\n",
    "        plt.axis(\"off\")\n",
    "    plt.show()\n",
    "\n",
    "# also some images from the validation set\n",
    "def visualize_data_valid(generator, num_images=5):\n",
    "    plt.figure(figsize=(10, 10))\n",
    "    for i in range(num_images):\n",
    "        img, label = generator.next()\n",
    "        ax = plt.subplot(1, num_images, i + 1)\n",
    "        plt.imshow(img[0])\n",
    "        plt.title(f\"Label: {label[0]}\")\n",
    "        plt.axis(\"off\")\n",
    "    plt.show()"
   ]
  },
  {
   "cell_type": "markdown",
   "id": "bf6c02a5",
   "metadata": {},
   "source": []
  }
 ],
 "metadata": {
  "kernelspec": {
   "display_name": "Python 3",
   "language": "python",
   "name": "python3"
  },
  "language_info": {
   "codemirror_mode": {
    "name": "ipython",
    "version": 3
   },
   "file_extension": ".py",
   "mimetype": "text/x-python",
   "name": "python",
   "nbconvert_exporter": "python",
   "pygments_lexer": "ipython3",
   "version": "3.12.2"
  }
 },
 "nbformat": 4,
 "nbformat_minor": 5
}
