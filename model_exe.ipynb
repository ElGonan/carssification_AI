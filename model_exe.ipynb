{
 "cells": [
  {
   "cell_type": "code",
   "execution_count": 25,
   "id": "72061064",
   "metadata": {},
   "outputs": [],
   "source": [
    "import os\n",
    "import numpy as np\n",
    "import tensorflow as tf\n",
    "from tensorflow.keras.applications.resnet import preprocess_input\n",
    "from tensorflow.keras.preprocessing.image import ImageDataGenerator\n"
   ]
  },
  {
   "cell_type": "code",
   "execution_count": 26,
   "id": "cccbda4b",
   "metadata": {},
   "outputs": [],
   "source": [
    "# Windows\n",
    "#valid_dir = os.path.join(r\"./dataset/car parts\" , \"valid\")\n",
    "\n",
    "# Mac\n",
    "valid_dir = \"/Users/alanpagzz/Codes/carssification_AI/dataset/car parts/valid\""
   ]
  },
  {
   "cell_type": "code",
   "execution_count": 27,
   "id": "890b8404",
   "metadata": {},
   "outputs": [
    {
     "name": "stdout",
     "output_type": "stream",
     "text": [
      "Found 200 images belonging to 40 classes.\n"
     ]
    }
   ],
   "source": [
    "valid_datagen = ImageDataGenerator(\n",
    "    preprocessing_function=preprocess_input,\n",
    "    rotation_range = 10,\n",
    "    width_shift_range = 0.2,\n",
    "\theight_shift_range = 0.2,\n",
    "\thorizontal_flip = True\n",
    "        )\n",
    "\n",
    "valid_generator = valid_datagen.flow_from_directory(\n",
    "    valid_dir,\n",
    "    target_size=(254, 254),\n",
    "    batch_size=16,\n",
    "    class_mode=\"categorical\",\n",
    ")\n"
   ]
  },
  {
   "cell_type": "code",
   "execution_count": null,
   "id": "9329348f",
   "metadata": {},
   "outputs": [
    {
     "name": "stdout",
     "output_type": "stream",
     "text": [
      "Model loaded successfully.\n"
     ]
    }
   ],
   "source": [
    "# Load the saved model\n",
    "checkpoint_path = r\"./checkpoints/cp-06.keras\"\n",
    "\n",
    "# get class names from the generator\n",
    "class_names = list(valid_generator.class_indices.keys())\n",
    "\n",
    "# Load the model let´s goooooo\n",
    "model = tf.keras.models.load_model(checkpoint_path)\n",
    "if model is not None:\n",
    "    print(\"Model loaded successfully.\")\n",
    "else:\n",
    "    print(\"Failed to load the model.\")\n",
    "\n",
    "# Define the image route so later I only need to add the image name\n",
    "image_route = r\"./wednesdayTest/\"\n"
   ]
  },
  {
   "cell_type": "code",
   "execution_count": null,
   "id": "4d7da71b",
   "metadata": {},
   "outputs": [
    {
     "name": "stdout",
     "output_type": "stream",
     "text": [
      "\u001b[1m1/1\u001b[0m \u001b[32m━━━━━━━━━━━━━━━━━━━━\u001b[0m\u001b[37m\u001b[0m \u001b[1m0s\u001b[0m 300ms/step\n",
      "Predicted class: HEADLIGHTS\n"
     ]
    }
   ],
   "source": [
    "# Image name\n",
    "#image_name = input()\n",
    "image_name = \"img1.jpeg\" \n",
    "\n",
    "# Construct the full image path\n",
    "image_path = os.path.join(image_route , image_name)\n",
    "\n",
    "# Load and preprocess the image\n",
    "image = tf.keras.preprocessing.image.load_img(image_path, target_size=(254, 254))\n",
    "image = tf.keras.preprocessing.image.img_to_array(image)\n",
    "image = np.expand_dims(image, axis=0)\n",
    "image = preprocess_input(image)\n",
    "\n",
    "# Make predictions\n",
    "predictions = model.predict(image)\n",
    "predicted_class = np.argmax(predictions, axis=1)[0]\n",
    "\n",
    "# Print the predicted class\n",
    "print(f\"Predicted class: {class_names[predicted_class]}\")"
   ]
  }
 ],
 "metadata": {
  "kernelspec": {
   "display_name": "base",
   "language": "python",
   "name": "python3"
  },
  "language_info": {
   "codemirror_mode": {
    "name": "ipython",
    "version": 3
   },
   "file_extension": ".py",
   "mimetype": "text/x-python",
   "name": "python",
   "nbconvert_exporter": "python",
   "pygments_lexer": "ipython3",
   "version": "3.12.2"
  }
 },
 "nbformat": 4,
 "nbformat_minor": 5
}
