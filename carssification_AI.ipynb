{
 "cells": [
  {
   "cell_type": "markdown",
   "id": "d46de79a",
   "metadata": {},
   "source": [
    "For this first deliverable, I need to develop this:\n",
    "<br /> 1.- Apply scaling techniques\n",
    "<br /> 2.- preprocess of data"
   ]
  },
  {
   "cell_type": "code",
   "execution_count": null,
   "id": "cc717881",
   "metadata": {
    "vscode": {
     "languageId": "plaintext"
    }
   },
   "outputs": [],
   "source": [
    "# All the imports come here\n"
   ]
  },
  {
   "cell_type": "code",
   "execution_count": null,
   "id": "f9ffd059",
   "metadata": {
    "vscode": {
     "languageId": "plaintext"
    }
   },
   "outputs": [],
   "source": [
    "# It's important to comment the import depending on the OS\n",
    "# Windows PC\n",
    "base_dir = r\"\""
   ]
  },
  {
   "cell_type": "markdown",
   "id": "bf6c02a5",
   "metadata": {},
   "source": []
  }
 ],
 "metadata": {
  "language_info": {
   "name": "python"
  }
 },
 "nbformat": 4,
 "nbformat_minor": 5
}
